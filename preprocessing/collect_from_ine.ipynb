{
 "cells": [
  {
   "cell_type": "code",
   "execution_count": 2,
   "metadata": {},
   "outputs": [],
   "source": [
    "import pandas as pd\n",
    "from urllib.request import urlopen\n",
    "import json"
   ]
  },
  {
   "cell_type": "code",
   "execution_count": 3,
   "metadata": {},
   "outputs": [],
   "source": [
    "varcd_cod = \"0012141\"\n",
    "url = f\"https://www.ine.pt/ine/json_indicador/pindica.jsp?op=2&varcd={varcd_cod}&lang=PT\"\n",
    "response = urlopen(url)\n",
    "data_json = json.loads(response.read())"
   ]
  },
  {
   "cell_type": "code",
   "execution_count": 4,
   "metadata": {},
   "outputs": [
    {
     "data": {
      "text/plain": [
       "['União das freguesias de Aldoar, Foz do Douro e Nevogilde',\n",
       " 'União das freguesias de Cedofeita, Santo Ildefonso, Sé, Miragaia, São Nicolau e Vitória',\n",
       " 'União das freguesias de Lordelo do Ouro e Massarelos',\n",
       " 'Bonfim',\n",
       " 'Campanhã',\n",
       " 'Paranhos',\n",
       " 'Ramalde']"
      ]
     },
     "execution_count": 4,
     "metadata": {},
     "output_type": "execute_result"
    }
   ],
   "source": [
    "freguesias = \"\"\"\n",
    "União das freguesias de Aldoar, Foz do Douro e Nevogilde\n",
    "União das freguesias de Cedofeita, Santo Ildefonso, Sé, Miragaia, São Nicolau e Vitória\n",
    "União das freguesias de Lordelo do Ouro e Massarelos\n",
    "Bonfim\n",
    "Campanhã\n",
    "Paranhos\n",
    "Ramalde\n",
    "\"\"\".strip().split(\"\\n\")\n",
    "freguesias"
   ]
  },
  {
   "cell_type": "code",
   "execution_count": 5,
   "metadata": {},
   "outputs": [
    {
     "data": {
      "text/plain": [
       "{('091208', 'Paranhos'),\n",
       " ('131202', 'Bonfim'),\n",
       " ('131203', 'Campanhã'),\n",
       " ('131210', 'Paranhos'),\n",
       " ('131211', 'Ramalde'),\n",
       " ('131216', 'União das freguesias de Aldoar, Foz do Douro e Nevogilde'),\n",
       " ('131217',\n",
       "  'União das freguesias de Cedofeita, Santo Ildefonso, Sé, Miragaia, São Nicolau e Vitória'),\n",
       " ('131218', 'União das freguesias de Lordelo do Ouro e Massarelos')}"
      ]
     },
     "execution_count": 5,
     "metadata": {},
     "output_type": "execute_result"
    }
   ],
   "source": [
    "l1 = data_json[0][\"Dados\"][\"2021\"]\n",
    "l2 = filter(lambda x: x[\"geodsg\"] in freguesias, l1)\n",
    "l3 = set([(x[\"geocod\"], x[\"geodsg\"]) for x in l2])\n",
    "l3"
   ]
  },
  {
   "cell_type": "code",
   "execution_count": 6,
   "metadata": {},
   "outputs": [
    {
     "data": {
      "text/plain": [
       "'done'"
      ]
     },
     "execution_count": 6,
     "metadata": {},
     "output_type": "execute_result"
    }
   ],
   "source": [
    "datas_jsons = []\n",
    "for code, name in l3:\n",
    "    varcd_cod = '0011706'\n",
    "    url = f\"https://www.ine.pt/ine/json_indicador/pindica.jsp?op=2&varcd={varcd_cod}&Dim2={code}&lang=PT\"\n",
    "    response = urlopen(url)\n",
    "    datas_jsons.append(json.loads(response.read()))\n",
    "\"done\""
   ]
  },
  {
   "cell_type": "code",
   "execution_count": 7,
   "metadata": {},
   "outputs": [],
   "source": [
    "final_movement_json = []\n",
    "for data in datas_jsons:\n",
    "    l_movement = data[0][\"Dados\"]['2021']\n",
    "    l_movement = list(filter(lambda x: x[\"dim_5\"] == \"T\" and \"freguesia\" in x[\"dim_6_t\"], l_movement))\n",
    "    final_movement_json += l_movement\n",
    "final_movement = pd.DataFrame(final_movement_json)\n",
    "final_movement = final_movement.drop(columns=[\"geocod\",\"dim_3\", \"dim_4\", \"dim_5\", \"dim_5_t\", \"dim_6\"])\n",
    "final_movement = final_movement.rename(columns={\"geodsg\":\"freguesia\",\"dim_3_t\":\"genero\", \"dim_4_t\":\"ocupacao\" ,\"dim_6_t\":\"destino\"})\n",
    "final_movement.to_csv(\"movimentos_porto_por_freguesia.csv\", index=False)"
   ]
  }
 ],
 "metadata": {
  "kernelspec": {
   "display_name": "Python 3",
   "language": "python",
   "name": "python3"
  },
  "language_info": {
   "codemirror_mode": {
    "name": "ipython",
    "version": 3
   },
   "file_extension": ".py",
   "mimetype": "text/x-python",
   "name": "python",
   "nbconvert_exporter": "python",
   "pygments_lexer": "ipython3",
   "version": "3.10.12"
  }
 },
 "nbformat": 4,
 "nbformat_minor": 2
}
